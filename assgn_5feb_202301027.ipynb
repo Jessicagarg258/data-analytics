{
  "nbformat": 4,
  "nbformat_minor": 0,
  "metadata": {
    "colab": {
      "provenance": [],
      "authorship_tag": "ABX9TyNg2qC6ybzau33+f/KB7RzG",
      "include_colab_link": true
    },
    "kernelspec": {
      "name": "python3",
      "display_name": "Python 3"
    },
    "language_info": {
      "name": "python"
    }
  },
  "cells": [
    {
      "cell_type": "markdown",
      "metadata": {
        "id": "view-in-github",
        "colab_type": "text"
      },
      "source": [
        "<a href=\"https://colab.research.google.com/github/Jessicagarg258/data-analytics/blob/main/assgn_5feb_202301027.ipynb\" target=\"_parent\"><img src=\"https://colab.research.google.com/assets/colab-badge.svg\" alt=\"Open In Colab\"/></a>"
      ]
    },
    {
      "cell_type": "code",
      "execution_count": 2,
      "metadata": {
        "colab": {
          "base_uri": "https://localhost:8080/"
        },
        "id": "jTtuHgICh1of",
        "outputId": "978bfa4d-290a-429d-f913-5d2e9dcd300c"
      },
      "outputs": [
        {
          "output_type": "stream",
          "name": "stdout",
          "text": [
            "[5 4 6 3 2 1]\n"
          ]
        }
      ],
      "source": [
        "import numpy as np\n",
        "\n",
        "arr = np.array([1, 2, 3, 6, 4, 5])\n",
        "reversed_arr = arr[::-1]\n",
        "\n",
        "print(reversed_arr)\n"
      ]
    },
    {
      "cell_type": "code",
      "source": [
        "import numpy as np\n",
        "\n",
        "arr1 = np.array([[1, 2], [3, 4]])\n",
        "arr2 = np.array([[1, 2], [3, 4]])\n",
        "\n",
        "comparison = arr1 == arr2\n",
        "\n",
        "print(comparison)\n"
      ],
      "metadata": {
        "id": "VKUyr3hsk6oB",
        "colab": {
          "base_uri": "https://localhost:8080/"
        },
        "outputId": "42450c1d-569e-46f9-f63c-97f0951e74d5"
      },
      "execution_count": 3,
      "outputs": [
        {
          "output_type": "stream",
          "name": "stdout",
          "text": [
            "[[ True  True]\n",
            " [ True  True]]\n"
          ]
        }
      ]
    },
    {
      "cell_type": "code",
      "source": [
        "a = np.array([1,2,3,4,5,1,2,1,1,1])\n",
        "b = np.array([1,1,1, 2, 3, 4, 2, 4, 3, 3])\n",
        "print(f\"The most frequent value in  first array is : {np.bincount(a).argmax()}\")\n",
        "print(f\"The index of most frequent values of first array are {np.where(a==(np.bincount(a).argmax()))}\")\n",
        "print(f\"The most frequent value in  second array is : {np.bincount(b).argmax()}\")\n",
        "print(f\"The index of most frequent values of second array are {np.where(b==(np.bincount(b).argmax()))}\")"
      ],
      "metadata": {
        "colab": {
          "base_uri": "https://localhost:8080/"
        },
        "id": "sC06M1YStX_U",
        "outputId": "1c95f4b9-f802-4a99-a004-0a10557b0c84"
      },
      "execution_count": 4,
      "outputs": [
        {
          "output_type": "stream",
          "name": "stdout",
          "text": [
            "The most frequent value in  first array is : 1\n",
            "The index of most frequent values of first array are (array([0, 5, 7, 8, 9]),)\n",
            "The most frequent value in  second array is : 1\n",
            "The index of most frequent values of second array are (array([0, 1, 2]),)\n"
          ]
        }
      ]
    },
    {
      "cell_type": "code",
      "source": [
        "y = np.matrix(\"[4, 1, 9; 12, 3, 1; 4, 5, 6]\")\n",
        "print(y)\n",
        "print(f\"The sum of matrix is {np.sum(y)}\")\n",
        "print(f\"The sum of all rows are {y.sum(axis=1)}\")\n",
        "print(f\"The sum of all columns  are {y.sum(axis=0)}\")"
      ],
      "metadata": {
        "colab": {
          "base_uri": "https://localhost:8080/"
        },
        "id": "7xOQWlZyvA2W",
        "outputId": "fc3e38a0-f0d5-4071-8897-e4f10d12fcc8"
      },
      "execution_count": 5,
      "outputs": [
        {
          "output_type": "stream",
          "name": "stdout",
          "text": [
            "[[ 4  1  9]\n",
            " [12  3  1]\n",
            " [ 4  5  6]]\n",
            "The sum of matrix is 45\n",
            "The sum of all rows are [[14]\n",
            " [16]\n",
            " [15]]\n",
            "The sum of all columns  are [[20  9 16]]\n"
          ]
        }
      ]
    }
  ]
}