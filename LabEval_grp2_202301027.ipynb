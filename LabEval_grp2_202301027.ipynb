{
  "nbformat": 4,
  "nbformat_minor": 0,
  "metadata": {
    "colab": {
      "provenance": [],
      "authorship_tag": "ABX9TyPXYsC6QAzhltwQweSyEisV",
      "include_colab_link": true
    },
    "kernelspec": {
      "name": "python3",
      "display_name": "Python 3"
    },
    "language_info": {
      "name": "python"
    }
  },
  "cells": [
    {
      "cell_type": "markdown",
      "metadata": {
        "id": "view-in-github",
        "colab_type": "text"
      },
      "source": [
        "<a href=\"https://colab.research.google.com/github/Jessicagarg258/data-analytics/blob/main/LabEval_grp2_202301027.ipynb\" target=\"_parent\"><img src=\"https://colab.research.google.com/assets/colab-badge.svg\" alt=\"Open In Colab\"/></a>"
      ]
    },
    {
      "cell_type": "code",
      "execution_count": 16,
      "metadata": {
        "colab": {
          "base_uri": "https://localhost:8080/"
        },
        "id": "wEe0n1_jVfco",
        "outputId": "f3ca3c42-0f12-4959-ae84-4f638607aa41"
      },
      "outputs": [
        {
          "output_type": "stream",
          "name": "stdout",
          "text": [
            "[ 10  16  16  52  54  62 453]\n",
            "[[0]\n",
            " [1]\n",
            " [2]\n",
            " [3]\n",
            " [4]\n",
            " [5]\n",
            " [6]]\n",
            "smallest element\n",
            "[10 16 16 52]\n",
            "largest element\n",
            "[ 16  52  54  62 453]\n"
          ]
        }
      ],
      "source": [
        "import numpy as np\n",
        "array=np.array([10,52,62,16,16,54,453])\n",
        "\n",
        "#1\n",
        "x=np.sort(array)\n",
        "print(x)\n",
        "\n",
        "#2\n",
        "y=np.argwhere(x)\n",
        "print(y)\n",
        "\n",
        "#3\n",
        "k=4\n",
        "print(\"smallest element\")\n",
        "print(x[:k])\n",
        "\n",
        "#4\n",
        "k=5\n",
        "print(\"largest element\")\n",
        "print(x[2:])"
      ]
    }
  ]
}