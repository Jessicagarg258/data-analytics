{
  "nbformat": 4,
  "nbformat_minor": 0,
  "metadata": {
    "colab": {
      "provenance": [],
      "authorship_tag": "ABX9TyMYzzl0tInYwf90Ww+pIXvq",
      "include_colab_link": true
    },
    "kernelspec": {
      "name": "python3",
      "display_name": "Python 3"
    },
    "language_info": {
      "name": "python"
    }
  },
  "cells": [
    {
      "cell_type": "markdown",
      "metadata": {
        "id": "view-in-github",
        "colab_type": "text"
      },
      "source": [
        "<a href=\"https://colab.research.google.com/github/Jessicagarg258/data-analytics/blob/main/assgn3_12feb_202301027.ipynb\" target=\"_parent\"><img src=\"https://colab.research.google.com/assets/colab-badge.svg\" alt=\"Open In Colab\"/></a>"
      ]
    },
    {
      "cell_type": "code",
      "execution_count": 3,
      "metadata": {
        "id": "msti_HSZ4uSw"
      },
      "outputs": [],
      "source": [
        "import pandas as pd\n",
        "new_data={\n",
        "        'Tid':[1,2,3,4,5,6,7,8,9,10],\n",
        "        'Refund':['yes','no','no','yes','no','no','yes','no','no','no'],\n",
        "        'Martial_status':['single','married','single','married','divorced','married','divorced','single','married','single'],\n",
        "        'Taxable_Income':['125k','100k','70k','120k','95k','60k','220k','85k','75k','90k'],\n",
        "        'Cheat':['no','no','no','no','yes','no','no','yes','no','yes']\n",
        "    }\n"
      ]
    },
    {
      "cell_type": "code",
      "source": [
        "data=pd.DataFrame(new_data)"
      ],
      "metadata": {
        "id": "BxvfO9QN6tUI"
      },
      "execution_count": 5,
      "outputs": []
    },
    {
      "cell_type": "code",
      "source": [
        "print(data)"
      ],
      "metadata": {
        "colab": {
          "base_uri": "https://localhost:8080/"
        },
        "id": "sMC7RLaJ7RJc",
        "outputId": "ac3334f6-86a7-4739-a76d-d2ae6474f6e4"
      },
      "execution_count": 6,
      "outputs": [
        {
          "output_type": "stream",
          "name": "stdout",
          "text": [
            "   Tid Refund Martial_status Taxable_Income Cheat\n",
            "0    1    yes         single           125k    no\n",
            "1    2     no        married           100k    no\n",
            "2    3     no         single            70k    no\n",
            "3    4    yes        married           120k    no\n",
            "4    5     no       divorced            95k   yes\n",
            "5    6     no        married            60k    no\n",
            "6    7    yes       divorced           220k    no\n",
            "7    8     no         single            85k   yes\n",
            "8    9     no        married            75k    no\n",
            "9   10     no         single            90k   yes\n"
          ]
        }
      ]
    },
    {
      "cell_type": "code",
      "source": [
        "\n",
        "rows = data.iloc[[0, 4, 7, 8]]\n",
        "\n",
        "print(rows)\n"
      ],
      "metadata": {
        "colab": {
          "base_uri": "https://localhost:8080/"
        },
        "id": "iGNP0krC7dMR",
        "outputId": "44ba49b6-ed7c-41a5-f519-2b46ffac6b6c"
      },
      "execution_count": 9,
      "outputs": [
        {
          "output_type": "stream",
          "name": "stdout",
          "text": [
            "   Tid Refund Martial_status Taxable_Income Cheat\n",
            "0    1    yes         single           125k    no\n",
            "4    5     no       divorced            95k   yes\n",
            "7    8     no         single            85k   yes\n",
            "8    9     no        married            75k    no\n"
          ]
        }
      ]
    },
    {
      "cell_type": "code",
      "source": [
        "df=pd.read_csv('/content/data.csv')"
      ],
      "metadata": {
        "id": "piBdfcke9vwU"
      },
      "execution_count": 10,
      "outputs": []
    },
    {
      "cell_type": "code",
      "source": [
        "print(df)"
      ],
      "metadata": {
        "colab": {
          "base_uri": "https://localhost:8080/"
        },
        "id": "F7LzG1bE95WT",
        "outputId": "94812092-d905-45fb-ac57-4f00be2a661a"
      },
      "execution_count": 11,
      "outputs": [
        {
          "output_type": "stream",
          "name": "stdout",
          "text": [
            "     Duration  Pulse  Maxpulse  Calories\n",
            "0          60    110       130     409.1\n",
            "1          60    117       145     479.0\n",
            "2          60    103       135     340.0\n",
            "3          45    109       175     282.4\n",
            "4          45    117       148     406.0\n",
            "..        ...    ...       ...       ...\n",
            "164        60    105       140     290.8\n",
            "165        60    110       145     300.0\n",
            "166        60    115       145     310.2\n",
            "167        75    120       150     320.4\n",
            "168        75    125       150     330.4\n",
            "\n",
            "[169 rows x 4 columns]\n"
          ]
        }
      ]
    }
  ]
}